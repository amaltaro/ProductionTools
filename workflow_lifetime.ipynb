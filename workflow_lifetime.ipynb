{
 "cells": [
  {
   "cell_type": "markdown",
   "id": "ad0e4658",
   "metadata": {},
   "source": [
    "## Analysis of the workflow lifetime and their distribution in each status\n",
    "This notebook is used to parse workflows from ReqMgr2 and properly understand their lifetime and time distribution according to their statuses."
   ]
  },
  {
   "cell_type": "code",
   "execution_count": 71,
   "id": "56f89c17",
   "metadata": {},
   "outputs": [],
   "source": [
    "import os\n",
    "import sys\n",
    "import requests\n",
    "import json\n",
    "import statistics\n",
    "from pprint import pprint\n",
    "from tabulate import tabulate\n",
    "\n",
    "myCert = \"/Users/amaltar2/Devel/DockerWMCore/certs/servicecert.pem\"\n",
    "myKey = \"/Users/amaltar2/Devel/DockerWMCore/certs/servicekey.pem\""
   ]
  },
  {
   "cell_type": "markdown",
   "id": "678dd59d",
   "metadata": {},
   "source": [
    "### Fetch workflows from ReqMgr2"
   ]
  },
  {
   "cell_type": "code",
   "execution_count": 25,
   "id": "85c2530d",
   "metadata": {
    "collapsed": true
   },
   "outputs": [
    {
     "name": "stdout",
     "output_type": "stream",
     "text": [
      "[{'cmsunified_task_PPD-Run3Winter23Digi-00030__v1_T_230609_094934_6689': {'_id': 'cmsunified_task_PPD-Run3Winter23Digi-00030__v1_T_230609_094934_6689', 'Group': 'DATAOPS', 'Requestor': 'cmsunified', 'ProcessingString': {'PPD-Run3Winter23Digi-00030_0': 'FlatPU0to80GTv4BTag_126X_mcRun3_2023_forPU65_forBTag_v1', 'PPD-Run3Winter23Reco-00030_0': 'FlatPU0to80GTv4BTag_GTv4BTag_126X_mcRun3_2023_forPU65_forBTag_v1', 'PPD-Run3Winter23MiniAOD-00026_0': 'FlatPU0to80GTv4BTag_GTv4BTag_MiniGTv4BTag_126X_mcRun3_2023_forPU65_forBTag_v1', 'PPD-Run3Winter23NanoAOD-00026_0': 'FlatPU0to80GTv4BTag_GTv4BTag_MiniGTv4BTag_NanoGTv4BTag_126X_mcRun3_2023_forPU65_forBTag_v1'}, 'ScramArch': ['el8_amd64_gcc10'], 'SizePerEvent': 1930.782, 'Memory': 7900, 'PrepID': 'task_PPD-Run3Winter23Digi-00030', 'RequestType': 'StepChain', 'TimePerEvent': 37.3402, 'AcquisitionEra': {'PPD-Run3Winter23Digi-00030_0': 'Run3Winter23Digi', 'PPD-Run3Winter23Reco-00030_0': 'Run3Winter23Reco', 'PPD-Run3Winter23MiniAOD-00026_0': 'Run3Winter23MiniAOD', 'PPD-Run3Winter23NanoAOD-00026_0': 'Run3Winter23NanoAOD'}, 'CMSSWVersion': 'CMSSW_12_6_4', 'RequestPriority': 110000, 'ProcessingVersion': 2, 'SubRequestType': 'ReDigi', 'RequestString': 'task_PPD-Run3Winter23Digi-00030__v1_T', 'Campaign': 'Run3Winter23Digi', 'GlobalTag': '126X_mcRun3_2023_forPU65_forBTag_v1', 'DbsUrl': 'https://cmsweb-prod.cern.ch/dbs/prod/global/DBSReader', 'Multicore': 4, 'ConfigCacheUrl': 'https://cmsweb.cern.ch/couchdb', 'RequestorDN': '/DC=ch/DC=cern/OU=computers/CN=unified/vocms0268.cern.ch', 'RequestDate': [2023, 6, 9, 9, 49, 34], 'PriorityTransition': [{'Priority': 110000, 'UpdateTime': 1686304174, 'DN': '/DC=ch/DC=cern/OU=computers/CN=unified/vocms0268.cern.ch'}], 'CouchURL': 'https://cmsweb.cern.ch/couchdb', 'CouchDBName': 'reqmgr_config_cache', 'ConfigCacheID': None, 'OpenRunningTimeout': 0, 'GlobalTagConnect': None, 'LumiList': {}, 'DashboardHost': 'cms-jobmon.cern.ch', 'DashboardPort': 8884, 'PeriodicHarvestInterval': 0, 'DQMHarvestUnit': 'byRun', 'DQMUploadProxy': None, 'DQMUploadUrl': 'https://cmsweb.cern.ch/dqm/dev', 'DQMSequences': [], 'DQMConfigCacheID': None, 'EnableHarvesting': False, 'EnableNewStageout': False, 'IncludeParents': False, 'VoGroup': 'unknown', 'VoRole': 'unknown', 'ValidStatus': 'PRODUCTION', 'OverrideCatalog': None, 'RunNumber': 0, 'RobustMerge': True, 'Comments': '', 'GPUParams': 'null', 'MaxWaitTime': 86400, 'EventStreams': 0, 'MergedLFNBase': '/store/mc', 'UnmergedLFNBase': '/store/unmerged', 'DeleteFromSource': False, 'ChainParentageMap': {'Step1': {'ParentDset': '/SingleKLongGun_Pt-0To50/Run3Winter23GS-126X_mcRun3_2023_forPU65_v1-v2/GEN-SIM', 'ChildDsets': ['/SingleKLongGun_Pt-0To50/Run3Winter23Digi-FlatPU0to80GTv4BTag_126X_mcRun3_2023_forPU65_forBTag_v1-v2/GEN-SIM-RAW']}, 'Step2': {'ParentDset': '/SingleKLongGun_Pt-0To50/Run3Winter23Digi-FlatPU0to80GTv4BTag_126X_mcRun3_2023_forPU65_forBTag_v1-v2/GEN-SIM-RAW', 'ChildDsets': ['/SingleKLongGun_Pt-0To50/Run3Winter23Reco-FlatPU0to80GTv4BTag_GTv4BTag_126X_mcRun3_2023_forPU65_forBTag_v1-v2/AODSIM', '/SingleKLongGun_Pt-0To50/Run3Winter23Reco-FlatPU0to80GTv4BTag_GTv4BTag_126X_mcRun3_2023_forPU65_forBTag_v1-v2/GEN-SIM-RECO']}, 'Step3': {'ParentDset': '/SingleKLongGun_Pt-0To50/Run3Winter23Reco-FlatPU0to80GTv4BTag_GTv4BTag_126X_mcRun3_2023_forPU65_forBTag_v1-v2/AODSIM', 'ChildDsets': ['/SingleKLongGun_Pt-0To50/Run3Winter23MiniAOD-FlatPU0to80GTv4BTag_GTv4BTag_MiniGTv4BTag_126X_mcRun3_2023_forPU65_forBTag_v1-v2/MINIAODSIM']}, 'Step4': {'ParentDset': '/SingleKLongGun_Pt-0To50/Run3Winter23MiniAOD-FlatPU0to80GTv4BTag_GTv4BTag_MiniGTv4BTag_126X_mcRun3_2023_forPU65_forBTag_v1-v2/MINIAODSIM', 'ChildDsets': ['/SingleKLongGun_Pt-0To50/Run3Winter23NanoAOD-FlatPU0to80GTv4BTag_GTv4BTag_MiniGTv4BTag_NanoGTv4BTag_126X_mcRun3_2023_forPU65_forBTag_v1-v2/NANOAODSIM']}}, 'FirstEvent': 1, 'FirstLumi': 1, 'StepChain': 4, 'Step1': {'InputDataset': '/SingleKLongGun_Pt-0To50/Run3Winter23GS-126X_mcRun3_2023_forPU65_v1-v2/GEN-SIM', 'KeepOutput': True, 'MCPileup': '/MinBias_TuneCP5_13p6TeV-pythia8/Run3Winter23GS-126X_mcRun3_2023_forPU65_v1-v1/GEN-SIM', 'PrepID': 'PPD-Run3Winter23Digi-00030', 'GlobalTag': '126X_mcRun3_2023_forPU65_forBTag_v1', 'Campaign': 'Run3Winter23Digi', 'FilterEfficiency': 1, 'SplittingAlgo': 'EventAwareLumiBased', 'ProcessingString': 'FlatPU0to80GTv4BTag_126X_mcRun3_2023_forPU65_forBTag_v1', 'ScramArch': ['el8_amd64_gcc10'], 'ConfigCacheID': 'c68250d3a898562fa1267b964bd5f2ba', 'AcquisitionEra': 'Run3Winter23Digi', 'PrimaryDataset': 'SingleKLongGun_Pt-0To50', 'CMSSWVersion': 'CMSSW_12_6_4', 'EventsPerLumi': 771, 'StepName': 'PPD-Run3Winter23Digi-00030_0', 'EventsPerJob': 771}, 'Step2': {'KeepOutput': True, 'PrepID': 'PPD-Run3Winter23Reco-00030', 'Campaign': 'Run3Winter23Reco', 'InputFromOutputModule': 'RAWSIMoutput', 'ProcessingString': 'FlatPU0to80GTv4BTag_GTv4BTag_126X_mcRun3_2023_forPU65_forBTag_v1', 'FilterEfficiency': 1, 'SplittingAlgo': 'EventAwareLumiBased', 'ScramArch': ['el8_amd64_gcc10'], 'ConfigCacheID': 'bd4ca29c997f9c4c086c7b48c4e0ec68', 'AcquisitionEra': 'Run3Winter23Reco', 'PrimaryDataset': 'SingleKLongGun_Pt-0To50', 'GlobalTag': '126X_mcRun3_2023_forPU65_forBTag_v1', 'CMSSWVersion': 'CMSSW_12_6_4', 'StepName': 'PPD-Run3Winter23Reco-00030_0', 'InputStep': 'PPD-Run3Winter23Digi-00030_0'}, 'Step3': {'KeepOutput': True, 'PrepID': 'PPD-Run3Winter23MiniAOD-00026', 'Campaign': 'Run3Winter23MiniAOD', 'InputFromOutputModule': 'AODSIMoutput', 'ProcessingString': 'FlatPU0to80GTv4BTag_GTv4BTag_MiniGTv4BTag_126X_mcRun3_2023_forPU65_forBTag_v1', 'FilterEfficiency': 1, 'SplittingAlgo': 'EventAwareLumiBased', 'ScramArch': ['el8_amd64_gcc10'], 'ConfigCacheID': 'bd4ca29c997f9c4c086c7b48c4e23b2a', 'AcquisitionEra': 'Run3Winter23MiniAOD', 'PrimaryDataset': 'SingleKLongGun_Pt-0To50', 'GlobalTag': '126X_mcRun3_2023_forPU65_forBTag_v1', 'CMSSWVersion': 'CMSSW_12_6_4', 'StepName': 'PPD-Run3Winter23MiniAOD-00026_0', 'InputStep': 'PPD-Run3Winter23Reco-00030_0'}, 'Step4': {'KeepOutput': True, 'PrepID': 'PPD-Run3Winter23NanoAOD-00026', 'Campaign': 'Run3Winter23NanoAOD', 'InputFromOutputModule': 'MINIAODSIMoutput', 'ProcessingString': 'FlatPU0to80GTv4BTag_GTv4BTag_MiniGTv4BTag_NanoGTv4BTag_126X_mcRun3_2023_forPU65_forBTag_v1', 'FilterEfficiency': 1, 'SplittingAlgo': 'EventAwareLumiBased', 'ScramArch': ['el8_amd64_gcc10'], 'ConfigCacheID': 'bd4ca29c997f9c4c086c7b48c4e24a5c', 'AcquisitionEra': 'Run3Winter23NanoAOD', 'PrimaryDataset': 'SingleKLongGun_Pt-0To50', 'GlobalTag': '126X_mcRun3_2023_forPU65_forBTag_v1', 'CMSSWVersion': 'CMSSW_12_6_4', 'StepName': 'PPD-Run3Winter23NanoAOD-00026_0', 'InputStep': 'PPD-Run3Winter23MiniAOD-00026_0'}, 'RequestStatus': 'running-closed', 'RequestTransition': [{'Status': 'new', 'UpdateTime': 1686304174, 'DN': '/DC=ch/DC=cern/OU=computers/CN=unified/vocms0268.cern.ch'}, {'UpdateTime': 1686304184, 'DN': '/DC=ch/DC=cern/OU=computers/CN=unified/vocms0268.cern.ch', 'Status': 'assignment-approved'}, {'UpdateTime': 1686305536, 'DN': '/DC=ch/DC=cern/OU=computers/CN=unified/vocms0268.cern.ch', 'Status': 'assigned'}, {'UpdateTime': 1686305680, 'DN': '/DC=ch/DC=cern/OU=Organic Units/OU=Users/CN=cmswebmg/CN=852819/CN=Robot: Service account for CMSWeb migration', 'Status': 'staging'}, {'UpdateTime': 1686309250, 'DN': '/DC=ch/DC=cern/OU=Organic Units/OU=Users/CN=cmswebmg/CN=852819/CN=Robot: Service account for CMSWeb migration', 'Status': 'staged'}, {'UpdateTime': 1686310122, 'DN': '/DC=ch/DC=cern/OU=Organic Units/OU=Users/CN=cmswebmg/CN=852819/CN=Robot: Service account for CMSWeb migration', 'Status': 'acquired'}, {'UpdateTime': 1686310757, 'DN': '/DC=ch/DC=cern/OU=Organic Units/OU=Users/CN=cmswebmg/CN=852819/CN=Robot: Service account for CMSWeb migration', 'Status': 'running-open'}, {'UpdateTime': 1686312582, 'DN': '/DC=ch/DC=cern/OU=Organic Units/OU=Users/CN=cmswebmg/CN=852819/CN=Robot: Service account for CMSWeb migration', 'Status': 'running-closed'}], 'CouchWorkloadDBName': 'reqmgr_workload_cache', 'RequestName': 'cmsunified_task_PPD-Run3Winter23Digi-00030__v1_T_230609_094934_6689', 'RequiresGPU': None, 'MinMergeSize': 2147483648, 'MaxMergeSize': 4294967296, 'MaxMergeEvents': 20000000, 'DeterministicPileup': False, 'PrimaryDataset': None, 'ParentageResolved': False, 'RequestWorkflow': 'https://cmsweb.cern.ch/couchdb/reqmgr_workload_cache/cmsunified_task_PPD-Run3Winter23Digi-00030__v1_T_230609_094934_6689/spec', 'OutputDatasets': ['/SingleKLongGun_Pt-0To50/Run3Winter23Digi-FlatPU0to80GTv4BTag_126X_mcRun3_2023_forPU65_forBTag_v1-v2/GEN-SIM-RAW', '/SingleKLongGun_Pt-0To50/Run3Winter23MiniAOD-FlatPU0to80GTv4BTag_GTv4BTag_MiniGTv4BTag_126X_mcRun3_2023_forPU65_forBTag_v1-v2/MINIAODSIM', '/SingleKLongGun_Pt-0To50/Run3Winter23NanoAOD-FlatPU0to80GTv4BTag_GTv4BTag_MiniGTv4BTag_NanoGTv4BTag_126X_mcRun3_2023_forPU65_forBTag_v1-v2/NANOAODSIM', '/SingleKLongGun_Pt-0To50/Run3Winter23Reco-FlatPU0to80GTv4BTag_GTv4BTag_126X_mcRun3_2023_forPU65_forBTag_v1-v2/AODSIM', '/SingleKLongGun_Pt-0To50/Run3Winter23Reco-FlatPU0to80GTv4BTag_GTv4BTag_126X_mcRun3_2023_forPU65_forBTag_v1-v2/GEN-SIM-RECO'], 'InitialPriority': 110000, 'SiteBlacklist': ['T1_ES_PIC', 'T1_FR_CCIN2P3', 'T2_CN_Beijing', 'T2_DE_RWTH', 'T2_FR_IPHC', 'T2_KR_KISTI', 'T2_PT_NCG_Lisbon', 'T2_RU_IHEP', 'T2_UK_SGrid_RALPP', 'T2_TR_METU', 'T2_FI_HIP', 'T2_RU_INR'], 'TrustSitelists': False, 'TrustPUSitelists': False, 'BlockCloseMaxEvents': 200000000, 'BlockCloseMaxWaitTime': 172800, 'Dashboard': 'reprocessing', 'SoftTimeout': 159600, 'GracePeriod': 300, 'CustodialSites': [], 'NonCustodialSites': ['T2_CH_CERN'], 'SiteWhitelist': ['T2_CH_CERN_P5', 'T2_CH_CERN', 'T2_CH_CERN_HLT'], 'Team': 'production', 'HardTimeout': 159900, 'SubscriptionPriority': 'Low', 'AllowOpportunistic': False, 'BlockCloseMaxFiles': 500, 'BlockCloseMaxSize': 5000000000000, 'Override': {'eos-lfn-prefix': 'root://eoscms.cern.ch//eos/cms/store/logs/prod/recent/PRODUCTION'}, 'DatasetLifetime': 0, 'OutputModulesLFNBases': ['/store/unmerged/Run3Winter23Reco/SingleKLongGun_Pt-0To50/AODSIM/FlatPU0to80GTv4BTag_GTv4BTag_126X_mcRun3_2023_forPU65_forBTag_v1-v2', '/store/unmerged/Run3Winter23Reco/SingleKLongGun_Pt-0To50/GEN-SIM-RECO/FlatPU0to80GTv4BTag_GTv4BTag_126X_mcRun3_2023_forPU65_forBTag_v1-v2', '/store/unmerged/Run3Winter23MiniAOD/SingleKLongGun_Pt-0To50/MINIAODSIM/FlatPU0to80GTv4BTag_GTv4BTag_MiniGTv4BTag_126X_mcRun3_2023_forPU65_forBTag_v1-v2', '/store/unmerged/Run3Winter23Digi/SingleKLongGun_Pt-0To50/GEN-SIM-RAW/FlatPU0to80GTv4BTag_126X_mcRun3_2023_forPU65_forBTag_v1-v2', '/store/unmerged/Run3Winter23NanoAOD/SingleKLongGun_Pt-0To50/NANOAODSIM/FlatPU0to80GTv4BTag_GTv4BTag_MiniGTv4BTag_NanoGTv4BTag_126X_mcRun3_2023_forPU65_forBTag_v1-v2'], 'TotalEstimatedJobs': 12971, 'TotalInputEvents': 10000000, 'TotalInputLumis': 13004, 'TotalInputFiles': 40}}]\n"
     ]
    },
    {
     "name": "stderr",
     "output_type": "stream",
     "text": [
      "/Users/amaltar2/.virtualenvs/py3.10/lib/python3.10/site-packages/urllib3/connectionpool.py:1045: InsecureRequestWarning: Unverified HTTPS request is being made to host 'cmsweb.cern.ch'. Adding certificate verification is strongly advised. See: https://urllib3.readthedocs.io/en/1.26.x/advanced-usage.html#ssl-warnings\n",
      "  warnings.warn(\n"
     ]
    }
   ],
   "source": [
    "headers = {\"Content-type\": \"application/json\", \"Accept\": \"application/json\"}\n",
    "reqmgrUrl = \"https://cmsweb.cern.ch/reqmgr2/data/request\"\n",
    "params = {\"name\": \"cmsunified_task_PPD-Run3Winter23Digi-00030__v1_T_230609_094934_6689\"}\n",
    "data = requests.get(reqmgrUrl, params=params, headers=headers, cert=(myCert, myKey), verify=False)\n",
    "if data.ok is True:\n",
    "    data = data.json()['result']"
   ]
  },
  {
   "cell_type": "markdown",
   "id": "ca625f9f",
   "metadata": {},
   "source": [
    "### OR, fetch workflows directly from CouchDB - including archived workflows"
   ]
  },
  {
   "cell_type": "code",
   "execution_count": 47,
   "id": "775ead16",
   "metadata": {},
   "outputs": [
    {
     "name": "stderr",
     "output_type": "stream",
     "text": [
      "/Users/amaltar2/.virtualenvs/py3.10/lib/python3.10/site-packages/urllib3/connectionpool.py:1045: InsecureRequestWarning: Unverified HTTPS request is being made to host 'cmsweb.cern.ch'. Adding certificate verification is strongly advised. See: https://urllib3.readthedocs.io/en/1.26.x/advanced-usage.html#ssl-warnings\n",
      "  warnings.warn(\n"
     ]
    },
    {
     "name": "stdout",
     "output_type": "stream",
     "text": [
      "<Response [200]>\n",
      "Total number of workflows: 236810\n"
     ]
    }
   ],
   "source": [
    "%%time\n",
    "couchUrl = \"https://cmsweb.cern.ch/couchdb/reqmgr_workload_cache/_design/ReqMgr/_view/bydate\"\n",
    "queryParams = {\"startkey\": \"[2022,4,1]\", \"endkey\": \"[2023,4,1]\", \"include_docs\": True}\n",
    "data = requests.get(couchUrl, params=queryParams, headers=headers, cert=(myCert, myKey), verify=False)\n",
    "print(data)\n",
    "if data.ok is True:\n",
    "    data = data.json()['rows']\n",
    "print(f\"Total number of workflows: {len(data)}\")"
   ]
  },
  {
   "cell_type": "markdown",
   "id": "78a285eb",
   "metadata": {},
   "source": [
    "### save this workflow data in a json to avoid this heavy query against CouchDB"
   ]
  },
  {
   "cell_type": "code",
   "execution_count": 48,
   "id": "ff1b7a48",
   "metadata": {},
   "outputs": [],
   "source": [
    "with open(\"workflow_dump.json\", \"w\") as fo:\n",
    "    json.dump(data, fo, indent=2)"
   ]
  },
  {
   "cell_type": "markdown",
   "id": "25badf99",
   "metadata": {},
   "source": [
    "## parse each document creating a timeline per campaign"
   ]
  },
  {
   "cell_type": "code",
   "execution_count": 100,
   "id": "b0a16cf6",
   "metadata": {},
   "outputs": [
    {
     "name": "stdout",
     "output_type": "stream",
     "text": [
      "CPU times: user 1min 2s, sys: 16.1 s, total: 1min 18s\n",
      "Wall time: 1min 45s\n"
     ]
    }
   ],
   "source": [
    "%%time\n",
    "results = []\n",
    "for wflow in data:\n",
    "    summary = {}\n",
    "    summary[\"RequestName\"] = wflow[\"doc\"][\"RequestName\"]\n",
    "    summary[\"RequestType\"] = wflow[\"doc\"][\"RequestType\"]\n",
    "    summary[\"RequestStatus\"] = wflow[\"doc\"][\"RequestStatus\"]\n",
    "    summary[\"Campaign\"] = wflow[\"doc\"][\"Campaign\"]\n",
    "    summary[\"StatusDuration\"] = []\n",
    "    ## then parse status transition\n",
    "    totalTransitions = len(wflow[\"doc\"][\"RequestTransition\"])\n",
    "    for idx, item in enumerate(wflow[\"doc\"][\"RequestTransition\"]):\n",
    "        thisTransition = {}\n",
    "        if idx + 1 == totalTransitions:\n",
    "            # then we are in the last transition, grab the total workflow wallclocktime\n",
    "            thisTransition[\"Status\"] = \"total\"\n",
    "            thisTransition[\"DurationSecs\"] = item[\"UpdateTime\"] - wflow[\"doc\"][\"RequestTransition\"][0][\"UpdateTime\"]\n",
    "        else:\n",
    "            # intermediate transitions, use the next step to calculate time duration\n",
    "            thisTransition[\"Status\"] = item[\"Status\"]\n",
    "            thisTransition[\"DurationSecs\"] = wflow[\"doc\"][\"RequestTransition\"][idx + 1][\"UpdateTime\"] - item[\"UpdateTime\"]\n",
    "        summary[\"StatusDuration\"].append(thisTransition)\n",
    "    results.append(summary)\n",
    "\n",
    "### And dump this summary in a file as well\n",
    "with open(\"wflow_summary.json\", \"w\") as fo:\n",
    "    json.dump(data, fo, indent=2)"
   ]
  },
  {
   "cell_type": "code",
   "execution_count": 101,
   "id": "c93e44e4",
   "metadata": {},
   "outputs": [
    {
     "name": "stdout",
     "output_type": "stream",
     "text": [
      "Have a total of 236810 for the range of 1/April/2022 - 1/April/2023\n",
      "  where (rejected/aborted)-archived workflows account to: 82051\n",
      "  and 154759 are active and/or normal-archived\n"
     ]
    }
   ],
   "source": [
    "# this is equivalent to the total number of workflows retrieved from CouchDB\n",
    "print(f\"Have a total of {len(results)} for the range of 1/April/2022 - 1/April/2023\")\n",
    "\n",
    "# now filter out workflows that ended up in rejected-archived and aborted-archived,\n",
    "# assuming that they are not relevant for this analysis (even though, depending on the\n",
    "# case, they might have ran to completion before being aborted!!!)\n",
    "normalResults = []\n",
    "rejectedResults = []\n",
    "for wflow in results:\n",
    "    if wflow[\"RequestStatus\"] in (\"rejected-archived\", \"aborted-archived\"):\n",
    "        rejectedResults.append(wflow)\n",
    "    else:\n",
    "        normalResults.append(wflow)\n",
    "print(f\"  where (rejected/aborted)-archived workflows account to: {len(rejectedResults)}\")    \n",
    "print(f\"  and {len(normalResults)} are active and/or normal-archived\")    "
   ]
  },
  {
   "cell_type": "markdown",
   "id": "9b786636",
   "metadata": {},
   "source": [
    "## grab some statistics for these workflows"
   ]
  },
  {
   "cell_type": "code",
   "execution_count": 102,
   "id": "0be2aeaf",
   "metadata": {},
   "outputs": [],
   "source": [
    "ACTIVE_STATUS = [\"new\",\n",
    "                 \"assignment-approved\",\n",
    "                 \"assigned\",\n",
    "                 \"staging\",\n",
    "                 \"staged\",\n",
    "                 \"acquired\",\n",
    "                 \"running-open\",\n",
    "                 \"running-closed\",\n",
    "                 \"force-complete\",\n",
    "                 \"completed\",\n",
    "                 \"closed-out\",\n",
    "                 \"announced\",\n",
    "                 \"rejected\",\n",
    "                 \"total\"]  # this one is not a real status\n",
    "\n",
    "# this object will contain all the absolute values for each workflow in each state\n",
    "wflowValues = {}\n",
    "for status in ACTIVE_STATUS:\n",
    "    wflowValues[status] = []\n",
    "for wflow in normalResults:\n",
    "    for statusDict in wflow[\"StatusDuration\"]:\n",
    "        if statusDict[\"Status\"] == \"normal-archived\":\n",
    "            # FIXME some bug. I guess one request had this status update twice(?)\n",
    "            continue\n",
    "        wflowValues[statusDict[\"Status\"]].append(statusDict[\"DurationSecs\"])"
   ]
  },
  {
   "cell_type": "code",
   "execution_count": 104,
   "id": "c8106d15",
   "metadata": {},
   "outputs": [
    {
     "name": "stdout",
     "output_type": "stream",
     "text": [
      "╒═════════════════════╤═══════════════╤═════════════════╤════════════════╕\n",
      "│ status              │   mean (days) │   median (days) │   stdev (days) │\n",
      "╞═════════════════════╪═══════════════╪═════════════════╪════════════════╡\n",
      "│ new                 │          0.74 │            0    │           1.74 │\n",
      "├─────────────────────┼───────────────┼─────────────────┼────────────────┤\n",
      "│ assignment-approved │         10.15 │            0.05 │          24.33 │\n",
      "├─────────────────────┼───────────────┼─────────────────┼────────────────┤\n",
      "│ assigned            │          0.01 │            0    │           0.17 │\n",
      "├─────────────────────┼───────────────┼─────────────────┼────────────────┤\n",
      "│ staging             │          0.84 │            0.03 │           3.38 │\n",
      "├─────────────────────┼───────────────┼─────────────────┼────────────────┤\n",
      "│ staged              │          0.02 │            0.01 │           0.1  │\n",
      "├─────────────────────┼───────────────┼─────────────────┼────────────────┤\n",
      "│ acquired            │         11.62 │            0.06 │          28.35 │\n",
      "├─────────────────────┼───────────────┼─────────────────┼────────────────┤\n",
      "│ running-open        │          0.68 │            0.02 │           3.19 │\n",
      "├─────────────────────┼───────────────┼─────────────────┼────────────────┤\n",
      "│ running-closed      │          2.52 │            1.02 │           4.69 │\n",
      "├─────────────────────┼───────────────┼─────────────────┼────────────────┤\n",
      "│ force-complete      │          0.01 │            0.01 │           0.02 │\n",
      "├─────────────────────┼───────────────┼─────────────────┼────────────────┤\n",
      "│ completed           │          3.47 │            0.04 │          13.52 │\n",
      "├─────────────────────┼───────────────┼─────────────────┼────────────────┤\n",
      "│ closed-out          │          0.65 │            0.08 │           4.84 │\n",
      "├─────────────────────┼───────────────┼─────────────────┼────────────────┤\n",
      "│ announced           │          6.27 │            2.26 │          14.08 │\n",
      "├─────────────────────┼───────────────┼─────────────────┼────────────────┤\n",
      "│ rejected            │          0    │            0    │           0    │\n",
      "├─────────────────────┼───────────────┼─────────────────┼────────────────┤\n",
      "│ total               │         36.76 │           13.26 │          43.43 │\n",
      "╘═════════════════════╧═══════════════╧═════════════════╧════════════════╛\n"
     ]
    }
   ],
   "source": [
    "# while this object will contain final stats for workflows in a given status\n",
    "columnNames = [\"status\", \"mean (days)\", \"median (days)\", \"stdev (days)\"]\n",
    "wflowStats = []\n",
    "daySecs = 24 * 3600\n",
    "for status in wflowValues:\n",
    "    thisStats = []\n",
    "    thisStats.append(status)\n",
    "    thisStats.append(round(statistics.mean(wflowValues[status]) / daySecs, 2))\n",
    "    thisStats.append(round(statistics.median(wflowValues[status]) / daySecs, 2))\n",
    "    thisStats.append(round(statistics.stdev(wflowValues[status]) / daySecs, 2))\n",
    "    wflowStats.append(thisStats)\n",
    "\n",
    "#pprint(wflowStats)\n",
    "print(tabulate(wflowStats, headers=columnNames, tablefmt=\"fancy_grid\"))"
   ]
  },
  {
   "cell_type": "markdown",
   "id": "f192c8af",
   "metadata": {},
   "source": [
    "## now make a normal distribution\n",
    "\n"
   ]
  },
  {
   "cell_type": "code",
   "execution_count": 107,
   "id": "2d5d06bf",
   "metadata": {},
   "outputs": [],
   "source": [
    "import matplotlib.pyplot as plt\n",
    "import numpy as np\n",
    "from scipy.stats import norm"
   ]
  },
  {
   "cell_type": "code",
   "execution_count": 135,
   "id": "4416ac31",
   "metadata": {},
   "outputs": [
    {
     "name": "stdout",
     "output_type": "stream",
     "text": [
      "Total values: 154759, mean (secs): 3176239.13, stddev (secs): 3751940.94\n",
      "Few seconds samples: [552052, 552076, 552435, 552198, 552081, 359565, 359387, 359637, 359412, 328850]\n",
      "Total values: 154759, mean (days): 36.76, stddev (days): 43.43\n",
      "Few days samples: [6.39, 6.39, 6.39, 6.39, 6.39, 4.16, 4.16, 4.16, 4.16, 3.81]\n"
     ]
    },
    {
     "data": {
      "image/png": "[encoded data removed]",
      "text/plain": [
       "<Figure size 640x480 with 1 Axes>"
      ]
     },
     "metadata": {},
     "output_type": "display_data"
    }
   ],
   "source": [
    "# calculate mean and std dev for the total wallclocktime - in days\n",
    "#totalMean = round(statistics.mean(wflowValues[\"total\"]) / daySecs, 2))\n",
    "#totalStdDev = round(statistics.stdev(wflowValues[\"total\"]) / daySecs, 2))\n",
    "totalMean = round(statistics.mean(wflowValues[\"total\"]), 2)\n",
    "totalStdDev = round(statistics.stdev(wflowValues[\"total\"]), 2)\n",
    "print(f\"Total values: {len(wflowValues['total'])}, mean (secs): {totalMean}, stddev (secs): {totalStdDev}\")\n",
    "print(f\"Few seconds samples: {wflowValues['total'][:10]}\")\n",
    "\n",
    "totalDays = [round(totalSecs / daySecs, 2) for totalSecs in wflowValues[\"total\"]]\n",
    "meanDays = round(totalMean / daySecs, 2)\n",
    "stdDevDays = round(totalStdDev / daySecs, 2)\n",
    "print(f\"Total values: {len(totalDays)}, mean (days): {meanDays}, stddev (days): {stdDevDays}\")\n",
    "print(f\"Few days samples: {totalDays[:10]}\")\n",
    "\n",
    "n, bins, patches = plt.hist(totalDays, bins=100, density = 1, color ='green')\n",
    "y = ((1 / (np.sqrt(2 * np.pi) * stdDevDays)) *\n",
    "     np.exp(-0.5 * (1 / stdDevDays * (bins - meanDays))**2))\n",
    " \n",
    "plt.plot(bins, y, '--', color ='black')\n",
    "plt.xlim(0, 150) \n",
    "plt.title(f'Distribution of workflow lifetime for (mu = {meanDays}, sigma = {stdDevDays})', fontsize='15')\n",
    "plt.xlabel('Total wallclocktime (days)', fontsize='15')\n",
    "plt.ylabel('Probability', fontsize='15')\n",
    " \n",
    "plt.show()\n"
   ]
  },
  {
   "cell_type": "code",
   "execution_count": null,
   "id": "61236258",
   "metadata": {},
   "outputs": [],
   "source": []
  }
 ],
 "metadata": {
  "kernelspec": {
   "display_name": "Python 3 (ipykernel)",
   "language": "python",
   "name": "python3"
  },
  "language_info": {
   "codemirror_mode": {
    "name": "ipython",
    "version": 3
   },
   "file_extension": ".py",
   "mimetype": "text/x-python",
   "name": "python",
   "nbconvert_exporter": "python",
   "pygments_lexer": "ipython3",
   "version": "3.10.5"
  }
 },
 "nbformat": 4,
 "nbformat_minor": 5
}
